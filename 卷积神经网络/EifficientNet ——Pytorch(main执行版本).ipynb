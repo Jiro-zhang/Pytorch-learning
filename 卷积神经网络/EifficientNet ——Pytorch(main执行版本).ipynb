{
 "cells": [
  {
   "cell_type": "code",
   "execution_count": 1,
   "metadata": {},
   "outputs": [
    {
     "name": "stdout",
     "output_type": "stream",
     "text": [
      "Files already downloaded and verified\n",
      "Files already downloaded and verified\n"
     ]
    }
   ],
   "source": [
    "import torch \n",
    "import torchvision\n",
    "import torch.nn as nn\n",
    "import torchvision.transforms as transforms\n",
    "import torch.optim as optim\n",
    "\n",
    "from efficientnet_pytorch import EfficientNet\n",
    "from tqdm import tqdm\n",
    "\n",
    "transform = transforms.Compose([transforms.ToTensor(), transforms.Normalize((0.5, 0.5, 0.5), (0.5, 0.5, 0.5))])\n",
    "\n",
    "train_data = torchvision.datasets.CIFAR10(root=\"data\", train=True, download=True, transform=transform)\n",
    "train_dataloader = torch.utils.data.DataLoader(train_data, batch_size=100, shuffle=True, num_workers=2)\n",
    "\n",
    "test_data = torchvision.datasets.CIFAR10(root=\"data\", train=False, download=True, transform=transform)\n",
    "test_dataloader = torch.utils.data.DataLoader(test_data, batch_size=4, shuffle=False, num_workers=2)\n"
   ]
  },
  {
   "cell_type": "code",
   "execution_count": 2,
   "metadata": {},
   "outputs": [],
   "source": [
    "class Model(nn.Module):\n",
    "    def __init__(self):\n",
    "        super(Model, self).__init__()\n",
    "        self.backbone = EfficientNet.from_name(\"efficientnet-b7\")\n",
    "        self.backbone_pretrained = EfficientNet.from_pretrained(\"efficientnet-b7\") \n",
    "        \n",
    "    def forward(self, x):\n",
    "        x = self.backbone_pretrained(x)\n",
    "        feature = torch.flatten(x, start_dim=1)\n",
    "        print(feature.shape)"
   ]
  },
  {
   "cell_type": "code",
   "execution_count": 6,
   "metadata": {},
   "outputs": [
    {
     "name": "stdout",
     "output_type": "stream",
     "text": [
      "<built-in method size of Tensor object at 0x000001D4E56307C8>\n",
      "4\n",
      "Loaded pretrained weights for efficientnet-b7\n",
      "torch.Size([4, 1000])\n"
     ]
    }
   ],
   "source": [
    "data = iter(test_dataloader)\n",
    "image ,target = data.next()\n",
    "print(target.size)\n",
    "print(target.size(0))\n",
    "\n",
    "model = Model()\n",
    "model.cuda()\n",
    "image ,target = image.cuda() ,target.cuda()\n",
    "out = model(image)"
   ]
  },
  {
   "cell_type": "code",
   "execution_count": null,
   "metadata": {},
   "outputs": [],
   "source": []
  }
 ],
 "metadata": {
  "kernelspec": {
   "display_name": "Python 3",
   "language": "python",
   "name": "python3"
  },
  "language_info": {
   "codemirror_mode": {
    "name": "ipython",
    "version": 3
   },
   "file_extension": ".py",
   "mimetype": "text/x-python",
   "name": "python",
   "nbconvert_exporter": "python",
   "pygments_lexer": "ipython3",
   "version": "3.7.6"
  }
 },
 "nbformat": 4,
 "nbformat_minor": 4
}
